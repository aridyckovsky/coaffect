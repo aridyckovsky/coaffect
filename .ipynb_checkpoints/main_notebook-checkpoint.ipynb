{
 "cells": [
  {
   "cell_type": "code",
   "execution_count": 1,
   "metadata": {},
   "outputs": [],
   "source": [
    "import networkx as nx\n",
    "import numpy as np\n",
    "import scipy.stats as sp\n",
    "import random\n",
    "import matplotlib.pyplot as plt\n",
    "import pandas as pd\n",
    "import math\n",
    "\n",
    "from model import Simulate, Group, Agent"
   ]
  },
  {
   "cell_type": "code",
   "execution_count": 32,
   "metadata": {},
   "outputs": [
    {
     "data": {
      "text/plain": [
       "<model.simulate.Simulate at 0x10bcfb0f0>"
      ]
     },
     "execution_count": 32,
     "metadata": {},
     "output_type": "execute_result"
    }
   ],
   "source": [
    "iterations = 1\n",
    "n_agents = 2\n",
    "T = 2\n",
    "dt = 0.1\n",
    "timeline = np.arange(0, T + dt, dt)\n",
    "\n",
    "stimulations = {\n",
    "    3: {\n",
    "        'magnitude': 1,\n",
    "        'agents': [1]\n",
    "    },\n",
    "    6: {\n",
    "        'magnitude': 1,\n",
    "        'agents': [1]\n",
    "    },\n",
    "}\n",
    "\n",
    "ties = [\n",
    "    (1, 2, 0.0),\n",
    "    (2, 1, 0.0)\n",
    "]\n",
    "\n",
    "simulation = Simulate(T, dt)\n",
    "simulation.run(Group, Agent, n_agents, stimulations, ties, iterations)\n",
    "        \n",
    "simulation"
   ]
  },
  {
   "cell_type": "code",
   "execution_count": 33,
   "metadata": {},
   "outputs": [
    {
     "data": {
      "text/plain": [
       "array([0. , 0.1, 0.2, 0.3, 0.4, 0.5, 0.6, 0.7, 0.8, 0.9, 1. , 1.1, 1.2,\n",
       "       1.3, 1.4, 1.5, 1.6, 1.7, 1.8, 1.9, 2. ])"
      ]
     },
     "execution_count": 33,
     "metadata": {},
     "output_type": "execute_result"
    }
   ],
   "source": [
    "len(simulation.output()[0]['agents'][1].data['arousal'])\n",
    "timeline"
   ]
  },
  {
   "cell_type": "code",
   "execution_count": 34,
   "metadata": {
    "scrolled": true
   },
   "outputs": [
    {
     "data": {
      "text/plain": [
       "[<matplotlib.lines.Line2D at 0x10bf15668>,\n",
       " <matplotlib.lines.Line2D at 0x10bf15828>]"
      ]
     },
     "execution_count": 34,
     "metadata": {},
     "output_type": "execute_result"
    },
    {
     "data": {
      "image/png": "[encoded data removed]",
      "text/plain": [
       "<matplotlib.figure.Figure at 0x10be416d8>"
      ]
     },
     "metadata": {},
     "output_type": "display_data"
    }
   ],
   "source": [
    "plt.plot(timeline, \n",
    "         simulation.output()[0]['agents'][1].data['arousal'], \n",
    "         timeline, \n",
    "         simulation.output()[0]['agents'][2].data['arousal'])"
   ]
  },
  {
   "cell_type": "code",
   "execution_count": 35,
   "metadata": {},
   "outputs": [
    {
     "data": {
      "text/plain": [
       "array([0.        , 0.        , 0.        , 0.        , 9.09090909,\n",
       "       8.26688208, 7.53730688, 6.9437661 , 6.31251464, 5.73864967,\n",
       "       5.21695424, 4.74268568, 4.31153243, 3.91957494, 3.56324995,\n",
       "       3.23931813, 2.94483467, 2.67712242, 2.43374766, 2.21249787,\n",
       "       2.0113617 ])"
      ]
     },
     "execution_count": 35,
     "metadata": {},
     "output_type": "execute_result"
    }
   ],
   "source": [
    "simulation.output()[0]['agents'][1].data['arousal']"
   ]
  },
  {
   "cell_type": "code",
   "execution_count": 24,
   "metadata": {},
   "outputs": [
    {
     "data": {
      "text/plain": [
       "array([0.        , 0.        , 0.        , 0.        , 9.09090909,\n",
       "       8.27761343, 7.58405054, 6.96187036, 6.32897306, 5.75361187,\n",
       "       5.23055624, 4.75505113, 4.32277376, 3.92979432, 3.57254029,\n",
       "       3.2477639 , 2.95251264, 2.6841024 , 2.44009309, 2.21826645,\n",
       "       2.01660586])"
      ]
     },
     "execution_count": 24,
     "metadata": {},
     "output_type": "execute_result"
    }
   ],
   "source": [
    "simulation.output()[0]['agents'][2].data['arousal']"
   ]
  },
  {
   "cell_type": "code",
   "execution_count": null,
   "metadata": {},
   "outputs": [],
   "source": []
  },
  {
   "cell_type": "markdown",
   "metadata": {},
   "source": [
    "## Network-based collective emotion model\n",
    "\n",
    "Current needs:\n",
    "- better matrix of interactions\n",
    "- matrix of amplitudes of arousal\n",
    "- probably make those matrices a matrix of vectors ^\n",
    "- incorporating collective state to informing agent states\n",
    "- improving stimulation framework\n",
    "- differentiating social stimulations based on directed weights\n",
    "- updating directed weights between agents\n",
    "- improving understanding of network structure with distances between agents\n",
    "- updating which ties between agents do and do not exist\n",
    "\n",
    "MAJOR ERRORS:\n",
    "- dimensional analysis is completely off right now\n",
    "- uniform random variables are clearly not appropriate for all things\n",
    "- edges shouldn't necessarily exist between all pairs of agents and strength of ties probably shouldn't be randomly distributed unless updating is allowed"
   ]
  },
  {
   "cell_type": "markdown",
   "metadata": {},
   "source": [
    "### Agent Defintions and Methods\n",
    "\n",
    "We define the temporally dependent activation $a_i(t)$ of an agent $i$ by the following piecewise definition:\n",
    "\n",
    "$$a_i(t) =\n",
    "  \\begin{cases}\n",
    "      1 & \\text{if $A_i(t) > T_{a_i}$} \\\\\n",
    "      0 & \\text{otherwise}\n",
    "  \\end{cases}\n",
    "$$\n",
    "\n",
    "We denote the arousal state of agent $i$ by $A_i$, and the activation threshold $T_{a_i}$.\n",
    "\n",
    "### Group Definitions and Methods\n",
    "The following class defines the group model and informs the collective state of our system.\n",
    "\n",
    "Some notes for the current work:\n",
    "- Stimulation times are randomly assigned throughout the time steps to a single agent at that time\n",
    "- The graph is a complete, directed graph with weights between agents sampled from the standard normal distribution for each direction"
   ]
  }
 ],
 "metadata": {
  "kernelspec": {
   "display_name": "Python 3",
   "language": "python",
   "name": "python3"
  },
  "language_info": {
   "codemirror_mode": {
    "name": "ipython",
    "version": 3
   },
   "file_extension": ".py",
   "mimetype": "text/x-python",
   "name": "python",
   "nbconvert_exporter": "python",
   "pygments_lexer": "ipython3",
   "version": "3.6.3"
  }
 },
 "nbformat": 4,
 "nbformat_minor": 2
}
