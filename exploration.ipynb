{
 "cells": [
  {
   "cell_type": "markdown",
   "metadata": {},
   "source": [
    "### Import essential modules to access classes for examples and exploration"
   ]
  },
  {
   "cell_type": "code",
   "execution_count": 1,
   "metadata": {},
   "outputs": [],
   "source": [
    "from coaffect import Agent, Simulation, Environment, Schedule, UnitSchedule, Group, History"
   ]
  },
  {
   "cell_type": "markdown",
   "metadata": {},
   "source": [
    "### Example usage of `UnitSchedule` module (subclass of `Schedule`)"
   ]
  },
  {
   "cell_type": "code",
   "execution_count": 3,
   "metadata": {},
   "outputs": [
    {
     "name": "stdout",
     "output_type": "stream",
     "text": [
      "Schedule begins at  0\n",
      "Schedule resolution is  3600\n"
     ]
    }
   ],
   "source": [
    "duration = {\n",
    "    'days': 1,\n",
    "    'hours': 6,\n",
    "    'minutes': 0,\n",
    "    'seconds': 30\n",
    "}\n",
    "unit = 'hour'\n",
    "\n",
    "schedule = UnitSchedule(duration, unit)\n",
    "\n",
    "print(\"Schedule begins at \", schedule.get_state())\n",
    "\n",
    "schedule.next()\n",
    "\n",
    "print(\"Schedule resolution is \", schedule.get_state())"
   ]
  },
  {
   "cell_type": "markdown",
   "metadata": {},
   "source": [
    "### Example usage of `Simulation` module (subclass of `Experiment`)"
   ]
  },
  {
   "cell_type": "code",
   "execution_count": null,
   "metadata": {},
   "outputs": [],
   "source": [
    "simulation_id = 1\n",
    "seed = 1\n",
    "\n",
    "simulation = Simulation(simulation_id, schedule, seed)\n",
    "\n",
    "print(\"Simulation ID: \", simulation.get_unique_id())\n",
    "\n",
    "#simulation.run()"
   ]
  },
  {
   "cell_type": "markdown",
   "metadata": {},
   "source": [
    "### Example usage of `Environment` module"
   ]
  },
  {
   "cell_type": "code",
   "execution_count": null,
   "metadata": {},
   "outputs": [],
   "source": [
    "environment_id = 1\n",
    "space = {}\n",
    "network = {}\n",
    "environment_name = 'Fun only!'\n",
    "\n",
    "environment = Environment(environment_id, space, network, environment_name)\n",
    "print(\"Environment is named\", environment.get_name())"
   ]
  },
  {
   "cell_type": "markdown",
   "metadata": {},
   "source": [
    "### Example usage of `Agent` module"
   ]
  },
  {
   "cell_type": "code",
   "execution_count": null,
   "metadata": {},
   "outputs": [],
   "source": [
    "Agent"
   ]
  },
  {
   "cell_type": "code",
   "execution_count": null,
   "metadata": {},
   "outputs": [],
   "source": []
  }
 ],
 "metadata": {
  "kernelspec": {
   "display_name": "Python 3",
   "language": "python",
   "name": "python3"
  },
  "language_info": {
   "codemirror_mode": {
    "name": "ipython",
    "version": 3
   },
   "file_extension": ".py",
   "mimetype": "text/x-python",
   "name": "python",
   "nbconvert_exporter": "python",
   "pygments_lexer": "ipython3",
   "version": "3.6.3"
  }
 },
 "nbformat": 4,
 "nbformat_minor": 2
}
