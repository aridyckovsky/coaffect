{
 "cells": [
  {
   "cell_type": "code",
   "execution_count": 1,
   "metadata": {},
   "outputs": [],
   "source": [
    "# Hacky way to make nested notebooks able to acess coaffect module\n",
    "# Once coaffect is its own published package or a separate repo, we can remove this and import as if any other module\n",
    "import os\n",
    "import sys\n",
    "module_path = os.path.abspath(os.path.join('../..')) # 2 directories above\n",
    "if module_path not in sys.path:\n",
    "    sys.path.append(module_path)# Import essential modules to access classes for examples and exploration"
   ]
  },
  {
   "cell_type": "markdown",
   "metadata": {},
   "source": [
    "# Touring NetworkX for the coaffect `Network` module\n",
    "(See end of notebook for relevant definitions/properties as defined in NetworkX)"
   ]
  },
  {
   "cell_type": "code",
   "execution_count": 2,
   "metadata": {},
   "outputs": [],
   "source": [
    "import networkx as nx\n",
    "import matplotlib.pyplot as plt"
   ]
  },
  {
   "cell_type": "markdown",
   "metadata": {},
   "source": [
    "### Import modules from coaffect for tutorial"
   ]
  },
  {
   "cell_type": "code",
   "execution_count": 3,
   "metadata": {},
   "outputs": [],
   "source": [
    "from coaffect import Agent, Simulation, UnitSchedule, Group\n",
    "\n",
    "example_simulation_id = 1\n",
    "example_duration = {\n",
    "    'days': 1,\n",
    "    'hours': 0,\n",
    "    'minutes': 0,\n",
    "    'seconds': 0\n",
    "}\n",
    "example_schedule = UnitSchedule(example_duration)\n",
    "example_simulation = Simulation(example_simulation_id, example_schedule)"
   ]
  },
  {
   "cell_type": "markdown",
   "metadata": {},
   "source": [
    "### Creating an empty directed graph"
   ]
  },
  {
   "cell_type": "code",
   "execution_count": 4,
   "metadata": {},
   "outputs": [],
   "source": [
    "directed_graph = nx.DiGraph()"
   ]
  },
  {
   "cell_type": "markdown",
   "metadata": {},
   "source": [
    "### Adding agents as nodes"
   ]
  },
  {
   "cell_type": "code",
   "execution_count": 6,
   "metadata": {},
   "outputs": [
    {
     "name": "stdout",
     "output_type": "stream",
     "text": [
      "[('a0', {'marker': 'agent', 'color': 'red'}), ('a1', {'marker': 'agent', 'color': 'red'}), ('a2', {'marker': 'agent', 'color': 'red'})]\n"
     ]
    }
   ],
   "source": [
    "agents = []\n",
    "agent_unique_ids = ['a0', 'a1', 'a2']\n",
    "\n",
    "# for each unique id, initialize an basic agent in the simulation and add to agents list\n",
    "for unique_id in agent_unique_ids:\n",
    "    a = Agent(unique_id)\n",
    "    agents.append(a)\n",
    "\n",
    "# add nodes from list of unique ids above, attribute each as an agent with common marker\n",
    "directed_graph.add_nodes_from(agent_unique_ids, marker='agent', color='red')\n",
    "print(directed_graph.nodes.data())"
   ]
  },
  {
   "cell_type": "markdown",
   "metadata": {},
   "source": [
    "### Adding social ties between agents as directed edges"
   ]
  },
  {
   "cell_type": "code",
   "execution_count": 7,
   "metadata": {},
   "outputs": [
    {
     "name": "stdout",
     "output_type": "stream",
     "text": [
      "[('a0', 'a1', {'marker': 'social_tie', 'strength': 0}), ('a0', 'a2', {'marker': 'social_tie', 'strength': 0}), ('a1', 'a0', {'marker': 'social_tie', 'strength': 0}), ('a2', 'a0', {'marker': 'social_tie', 'strength': 0})]\n"
     ]
    }
   ],
   "source": [
    "ties = []\n",
    "first_agent_id = agent_unique_ids[0]\n",
    "\n",
    "# for each unique id that is not the first agent's, create a directed tie to/from first agent\n",
    "for unique_id in agent_unique_ids:\n",
    "    if unique_id is not first_agent_id:\n",
    "        tie_from_first = (first_agent_id, unique_id)\n",
    "        tie_to_first = (unique_id, first_agent_id)\n",
    "        ties.append(tie_from_first)\n",
    "        ties.append(tie_to_first)\n",
    "\n",
    "# add edges from list of social ties with common marker and strength of tie\n",
    "directed_graph.add_edges_from(ties, marker='social_tie', strength=0)\n",
    "    \n",
    "#social_ties_between_agents\n",
    "print(directed_graph.edges.data())"
   ]
  },
  {
   "cell_type": "markdown",
   "metadata": {},
   "source": [
    "### Adding groups as nodes"
   ]
  },
  {
   "cell_type": "code",
   "execution_count": 8,
   "metadata": {},
   "outputs": [
    {
     "name": "stdout",
     "output_type": "stream",
     "text": [
      "[('a0', {'marker': 'agent', 'color': 'red'}), ('a1', {'marker': 'agent', 'color': 'red'}), ('a2', {'marker': 'agent', 'color': 'red'}), ('g0', {'marker': 'group', 'color': 'green'}), ('g1', {'marker': 'group', 'color': 'green'})]\n"
     ]
    }
   ],
   "source": [
    "groups = []\n",
    "group_unique_ids = ['g0', 'g1'] # only two groups for now\n",
    "\n",
    "# for each unique id, initialize an basic group in the simulation and add to groups list\n",
    "for unique_id in agent_unique_ids:\n",
    "    g = Group(unique_id)\n",
    "    groups.append(g)\n",
    "\n",
    "# add nodes from list of unique ids above, attribute each as a group with common marker\n",
    "directed_graph.add_nodes_from(group_unique_ids, marker='group', color='green')\n",
    "print(directed_graph.nodes.data())"
   ]
  },
  {
   "cell_type": "markdown",
   "metadata": {},
   "source": [
    "### Adding identifications from agents to groups as directed edges"
   ]
  },
  {
   "cell_type": "code",
   "execution_count": 9,
   "metadata": {},
   "outputs": [
    {
     "name": "stdout",
     "output_type": "stream",
     "text": [
      "something\n",
      "[('a0', 'a1', {'marker': 'social_tie', 'strength': 0}), ('a0', 'a2', {'marker': 'social_tie', 'strength': 0}), ('a0', 'g0', {'marker': 'identification', 'strength': 0}), ('a1', 'a0', {'marker': 'social_tie', 'strength': 0}), ('a1', 'g0', {'marker': 'identification', 'strength': 0}), ('a2', 'a0', {'marker': 'social_tie', 'strength': 0}), ('a2', 'g1', {'marker': 'identification', 'strength': 0})]\n"
     ]
    },
    {
     "data": {
      "text/plain": [
       "[('g0', {'color': 'green', 'marker': 'group'}),\n",
       " ('g1', {'color': 'green', 'marker': 'group'})]"
      ]
     },
     "execution_count": 9,
     "metadata": {},
     "output_type": "execute_result"
    }
   ],
   "source": [
    "identifications = []\n",
    "first_group_id = group_unique_ids[0]\n",
    "last_group_id = group_unique_ids[-1:][0]\n",
    "last_agent_id = agent_unique_ids[-1:][0]\n",
    "\n",
    "for agent_id in agent_unique_ids:\n",
    "    if agent_id is not last_agent_id:\n",
    "        identification_to_group = (agent_id, first_group_id)\n",
    "    else:\n",
    "        print('something')\n",
    "        identification_to_group = (last_agent_id, last_group_id)\n",
    "    identifications.append(identification_to_group)\n",
    "    \n",
    "directed_graph.add_edges_from(identifications, marker='identification', strength=0)\n",
    "print(directed_graph.edges.data())\n",
    "\n",
    "[d for d in directed_graph.nodes.data() if d[1]['marker'] is 'group']"
   ]
  },
  {
   "cell_type": "markdown",
   "metadata": {},
   "source": [
    "### Check some network properties thus far"
   ]
  },
  {
   "cell_type": "code",
   "execution_count": 10,
   "metadata": {},
   "outputs": [
    {
     "name": "stdout",
     "output_type": "stream",
     "text": [
      "Total number of nodes: 5\n",
      "Total number of edges: 7\n"
     ]
    }
   ],
   "source": [
    "print('Total number of nodes:', directed_graph.number_of_nodes())\n",
    "print('Total number of edges:', directed_graph.number_of_edges())"
   ]
  },
  {
   "cell_type": "markdown",
   "metadata": {},
   "source": [
    "### Draw the network with `unique_ids` node labels"
   ]
  },
  {
   "cell_type": "code",
   "execution_count": 11,
   "metadata": {
    "scrolled": true
   },
   "outputs": [
    {
     "data": {
      "image/png": "[encoded data removed]",
      "text/plain": [
       "<matplotlib.figure.Figure at 0x10fe0afd0>"
      ]
     },
     "metadata": {},
     "output_type": "display_data"
    }
   ],
   "source": [
    "nx.draw_circular(directed_graph, with_labels=True)\n",
    "plt.show()"
   ]
  },
  {
   "cell_type": "markdown",
   "metadata": {},
   "source": [
    "## Important Properties of NetworkX\n",
    "\n",
    "#### Nodes must be hashable objects (except `None`)!\n",
    "\n",
    "**hashable** An object is hashable if it has a hash value which never changes during its lifetime (it needs a `__hash__()` method), and can be compared to other objects (it needs an `__eq__()` or `__cmp__()` method). Hashable objects which compare equal must have the same hash value.\n",
    "Hashability makes an object usable as a dictionary key and a set member, because these data structures use the hash value internally.\n",
    "All of Python’s immutable built-in objects are hashable, while no mutable containers (such as lists or dictionar- ies) are. Objects which are instances of user-defined classes are hashable by default; they all compare unequal, and their hash value is their `id()`.\n",
    "\n",
    "**node attribute** Nodes can have arbitrary Python objects assigned as attributes by using keyword/value pairs when adding a node or assigning to the `G.nodes[n]` attribute dictionary for the specified node `n`."
   ]
  }
 ],
 "metadata": {
  "kernelspec": {
   "display_name": "Python 3",
   "language": "python",
   "name": "python3"
  },
  "language_info": {
   "codemirror_mode": {
    "name": "ipython",
    "version": 3
   },
   "file_extension": ".py",
   "mimetype": "text/x-python",
   "name": "python",
   "nbconvert_exporter": "python",
   "pygments_lexer": "ipython3",
   "version": "3.6.3"
  }
 },
 "nbformat": 4,
 "nbformat_minor": 2
}
