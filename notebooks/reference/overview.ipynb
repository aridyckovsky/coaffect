{
 "cells": [
  {
   "cell_type": "code",
   "execution_count": 1,
   "metadata": {},
   "outputs": [],
   "source": [
    "# Hacky way to make nested notebooks able to acess coaffect module\n",
    "# Once coaffect is its own published package or a separate repo, we can remove this and import as if any other module\n",
    "import os\n",
    "import sys\n",
    "module_path = os.path.abspath(os.path.join('../..')) # 2 directories above\n",
    "if module_path not in sys.path:\n",
    "    sys.path.append(module_path)# Import essential modules to access classes for examples and exploration"
   ]
  },
  {
   "cell_type": "code",
   "execution_count": 2,
   "metadata": {},
   "outputs": [],
   "source": [
    "from coaffect import Agent, EmotionalAgent, Simulation, Environment, Schedule, UnitSchedule, Group, Network, History"
   ]
  },
  {
   "cell_type": "markdown",
   "metadata": {},
   "source": [
    "### Example usage of `UnitSchedule` module (subclass of `Schedule`)"
   ]
  },
  {
   "cell_type": "code",
   "execution_count": 3,
   "metadata": {},
   "outputs": [
    {
     "name": "stdout",
     "output_type": "stream",
     "text": [
      "Schedule begins at  0\n",
      "Schedule resolution is  3600\n"
     ]
    }
   ],
   "source": [
    "duration = {\n",
    "    'days': 1,\n",
    "    'hours': 6,\n",
    "    'minutes': 0,\n",
    "    'seconds': 30\n",
    "}\n",
    "unit = 'hour'\n",
    "\n",
    "schedule = UnitSchedule(duration, unit)\n",
    "\n",
    "print(\"Schedule begins at \", schedule.get_state())\n",
    "\n",
    "schedule.next()\n",
    "\n",
    "print(\"Schedule resolution is \", schedule.get_state())"
   ]
  },
  {
   "cell_type": "markdown",
   "metadata": {},
   "source": [
    "### Example usage of `Simulation` module (subclass of `Experiment`)"
   ]
  },
  {
   "cell_type": "code",
   "execution_count": 4,
   "metadata": {},
   "outputs": [
    {
     "name": "stdout",
     "output_type": "stream",
     "text": [
      "Simulation ID:  1\n"
     ]
    }
   ],
   "source": [
    "simulation_id = '1'\n",
    "seed = 1\n",
    "\n",
    "simulation = Simulation(simulation_id, schedule, seed)\n",
    "\n",
    "print(\"Simulation ID: \", simulation.get_unique_id())\n",
    "\n",
    "#simulation.run()"
   ]
  },
  {
   "cell_type": "markdown",
   "metadata": {},
   "source": [
    "### Example usage of `Environment` module"
   ]
  },
  {
   "cell_type": "code",
   "execution_count": 5,
   "metadata": {},
   "outputs": [
    {
     "name": "stdout",
     "output_type": "stream",
     "text": [
      "Environment is named Fun only!\n"
     ]
    }
   ],
   "source": [
    "environment_id = '1'\n",
    "space = {}\n",
    "network = {}\n",
    "environment_name = 'Fun only!'\n",
    "\n",
    "environment = Environment(environment_id, space, network, environment_name)\n",
    "print(\"Environment is named\", environment.get_name())"
   ]
  },
  {
   "cell_type": "markdown",
   "metadata": {},
   "source": [
    "### Example usage of `EmotionalAgent` module (subclass of `Agent`)"
   ]
  },
  {
   "cell_type": "code",
   "execution_count": 6,
   "metadata": {},
   "outputs": [
    {
     "data": {
      "text/plain": [
       "{'arousal': 0, 'other': 2, 'something': 1}"
      ]
     },
     "execution_count": 6,
     "metadata": {},
     "output_type": "execute_result"
    }
   ],
   "source": [
    "emotional_agent_id = 'a0'\n",
    "custom_measures = dict(\n",
    "    something=1,\n",
    "    other=2\n",
    ")\n",
    "\n",
    "# Requires simulation to be initialized above\n",
    "agent = EmotionalAgent(emotional_agent_id, simulation, custom_measures)\n",
    "\n",
    "agent.get_state()"
   ]
  },
  {
   "cell_type": "markdown",
   "metadata": {
    "collapsed": true
   },
   "source": [
    "### Example usage of `Network` module"
   ]
  },
  {
   "cell_type": "code",
   "execution_count": 9,
   "metadata": {},
   "outputs": [
    {
     "name": "stdout",
     "output_type": "stream",
     "text": [
      "List of agent nodes: [('a0', {'node_type': 'agent'}), ('a1', {'node_type': 'agent'}), ('a2', {'node_type': 'agent'}), ('a3', {'node_type': 'agent'})]\n",
      "List of group nodes: [('g0', {'node_type': 'group'}), ('g1', {'node_type': 'group'})]\n"
     ]
    }
   ],
   "source": [
    "# Create an empty network (directed graph from networkx with a unique_id)\n",
    "example_network_id = 'n0'\n",
    "example_network = Network(example_network_id)\n",
    "\n",
    "# Create a list of agent ids\n",
    "number_of_agents = 4\n",
    "list_of_agent_ids = []\n",
    "for i in range(number_of_agents):\n",
    "    agent_id = 'a' + str(i)\n",
    "    list_of_agent_ids.append(agent_id)\n",
    "\n",
    "# Initialize emotional agents into a list\n",
    "list_of_agents = []\n",
    "for agent_id in list_of_agent_ids:\n",
    "    emotional_agent = EmotionalAgent(agent_id, simulation)\n",
    "    list_of_agents.append(emotional_agent)\n",
    "\n",
    "# Add agents by id as nodes to network\n",
    "example_network.add_agents(list_of_agent_ids)\n",
    "\n",
    "# Create list of group ids\n",
    "number_of_groups = 2\n",
    "list_of_group_ids = []\n",
    "for j in range(number_of_groups):\n",
    "    group_id = 'g' + str(j)\n",
    "    list_of_group_ids.append(group_id)\n",
    "\n",
    "# Initialize groups into a list\n",
    "list_of_groups = []\n",
    "for group_id in list_of_group_ids:\n",
    "    group = Group(group_id, simulation)\n",
    "    list_of_groups.append(group)\n",
    "\n",
    "# Add groups by id as nodes to network\n",
    "example_network.add_groups(list_of_group_ids)\n",
    "\n",
    "# Print list of nodes by type\n",
    "print('List of agent nodes:', example_network.get_nodes('agent'))\n",
    "print('List of group nodes:', example_network.get_nodes('group'))"
   ]
  },
  {
   "cell_type": "code",
   "execution_count": null,
   "metadata": {},
   "outputs": [],
   "source": []
  }
 ],
 "metadata": {
  "kernelspec": {
   "display_name": "Python 3",
   "language": "python",
   "name": "python3"
  },
  "language_info": {
   "codemirror_mode": {
    "name": "ipython",
    "version": 3
   },
   "file_extension": ".py",
   "mimetype": "text/x-python",
   "name": "python",
   "nbconvert_exporter": "python",
   "pygments_lexer": "ipython3",
   "version": "3.6.3"
  }
 },
 "nbformat": 4,
 "nbformat_minor": 2
}
