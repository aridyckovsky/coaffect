{
 "cells": [
  {
   "cell_type": "code",
   "execution_count": 1,
   "metadata": {
    "collapsed": true
   },
   "outputs": [],
   "source": [
    "# Hacky way to make nested notebooks able to acess coaffect module\n",
    "# Once coaffect is its own published package or a separate repo, we can remove this and import as if any other module\n",
    "import os\n",
    "import sys\n",
    "module_path = os.path.abspath(os.path.join('../..')) # 2 directories above\n",
    "if module_path not in sys.path:\n",
    "    sys.path.append(module_path)# Import essential modules to access classes for examples and exploration"
   ]
  },
  {
   "cell_type": "code",
   "execution_count": 7,
   "metadata": {
    "collapsed": true
   },
   "outputs": [],
   "source": [
    "from coaffect import Agent, EmotionalAgent, SocialEmotionalAgent, Simulation, Environment, Schedule, UnitSchedule, Group, History"
   ]
  },
  {
   "cell_type": "markdown",
   "metadata": {},
   "source": [
    "### Example usage of `UnitSchedule` module (subclass of `Schedule`)"
   ]
  },
  {
   "cell_type": "code",
   "execution_count": 3,
   "metadata": {},
   "outputs": [
    {
     "name": "stdout",
     "output_type": "stream",
     "text": [
      "Schedule begins at  0\n",
      "Schedule resolution is  3600\n"
     ]
    }
   ],
   "source": [
    "duration = {\n",
    "    'days': 1,\n",
    "    'hours': 6,\n",
    "    'minutes': 0,\n",
    "    'seconds': 30\n",
    "}\n",
    "unit = 'hour'\n",
    "\n",
    "schedule = UnitSchedule(duration, unit)\n",
    "\n",
    "print(\"Schedule begins at \", schedule.get_state())\n",
    "\n",
    "schedule.next()\n",
    "\n",
    "print(\"Schedule resolution is \", schedule.get_state())"
   ]
  },
  {
   "cell_type": "markdown",
   "metadata": {},
   "source": [
    "### Example usage of `Simulation` module (subclass of `Experiment`)"
   ]
  },
  {
   "cell_type": "code",
   "execution_count": 4,
   "metadata": {},
   "outputs": [
    {
     "name": "stdout",
     "output_type": "stream",
     "text": [
      "Simulation ID:  1\n"
     ]
    }
   ],
   "source": [
    "simulation_id = 1\n",
    "seed = 1\n",
    "\n",
    "simulation = Simulation(simulation_id, schedule, seed)\n",
    "\n",
    "print(\"Simulation ID: \", simulation.get_unique_id())\n",
    "\n",
    "#simulation.run()"
   ]
  },
  {
   "cell_type": "markdown",
   "metadata": {},
   "source": [
    "### Example usage of `Environment` module"
   ]
  },
  {
   "cell_type": "code",
   "execution_count": 5,
   "metadata": {},
   "outputs": [
    {
     "name": "stdout",
     "output_type": "stream",
     "text": [
      "Environment is named Fun only!\n"
     ]
    }
   ],
   "source": [
    "environment_id = 1\n",
    "space = {}\n",
    "network = {}\n",
    "environment_name = 'Fun only!'\n",
    "\n",
    "environment = Environment(environment_id, space, network, environment_name)\n",
    "print(\"Environment is named\", environment.get_name())"
   ]
  },
  {
   "cell_type": "markdown",
   "metadata": {},
   "source": [
    "### Example usage of `EmotionalAgent` module (subclass of `Agent`)"
   ]
  },
  {
   "cell_type": "code",
   "execution_count": 6,
   "metadata": {},
   "outputs": [
    {
     "data": {
      "text/plain": [
       "{'arousal': 0, 'other': 2, 'something': 1}"
      ]
     },
     "execution_count": 6,
     "metadata": {},
     "output_type": "execute_result"
    }
   ],
   "source": [
    "agent_id = 1\n",
    "custom_measures = dict(\n",
    "    something=1,\n",
    "    other=2\n",
    ")\n",
    "\n",
    "# Requires simulation to be initialized above\n",
    "agent = EmotionalAgent(agent_id, simulation, custom_measures)\n",
    "\n",
    "agent.get_state()"
   ]
  },
  {
   "cell_type": "code",
   "execution_count": null,
   "metadata": {
    "collapsed": true
   },
   "outputs": [],
   "source": []
  },
  {
   "cell_type": "code",
   "execution_count": null,
   "metadata": {
    "collapsed": true
   },
   "outputs": [],
   "source": []
  }
 ],
 "metadata": {
  "kernelspec": {
   "display_name": "Python 3",
   "language": "python",
   "name": "python3"
  },
  "language_info": {
   "codemirror_mode": {
    "name": "ipython",
    "version": 3
   },
   "file_extension": ".py",
   "mimetype": "text/x-python",
   "name": "python",
   "nbconvert_exporter": "python",
   "pygments_lexer": "ipython3",
   "version": "3.6.3"
  }
 },
 "nbformat": 4,
 "nbformat_minor": 2
}
