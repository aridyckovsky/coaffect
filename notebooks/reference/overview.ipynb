{
 "cells": [
  {
   "cell_type": "code",
   "execution_count": 1,
   "metadata": {},
   "outputs": [],
   "source": [
    "# Hacky way to make nested notebooks able to acess coaffect module\n",
    "# Once coaffect is its own published package or a separate repo, we can remove this and import as if any other module\n",
    "import os\n",
    "import sys\n",
    "module_path = os.path.abspath(os.path.join('../..')) # 2 directories above\n",
    "if module_path not in sys.path:\n",
    "    sys.path.append(module_path)# Import essential modules to access classes for examples and exploration"
   ]
  },
  {
   "cell_type": "code",
   "execution_count": 2,
   "metadata": {},
   "outputs": [],
   "source": [
    "# schedule defaults\n",
    "DURATION = {\n",
    "    'days': 1\n",
    "}\n",
    "UNIT = 'hour'\n",
    "\n",
    "# simulation defaults\n",
    "SIMULATION_ID = '0'\n",
    "SEED = 1\n",
    "\n",
    "# environment defaults\n",
    "ENVIRONMENT_ID = '0'\n",
    "\n",
    "# agent defaults\n",
    "AGENT_ID = 'a0'\n",
    "NUMBER_OF_AGENTS = 4\n",
    "\n",
    "# group defaults\n",
    "GROUP_ID = 'g0'\n",
    "NUMBER_OF_GROUPS = 2\n",
    "\n",
    "# network defaults"
   ]
  },
  {
   "cell_type": "code",
   "execution_count": null,
   "metadata": {},
   "outputs": [],
   "source": [
    "Example usage of `History` module "
   ]
  },
  {
   "cell_type": "markdown",
   "metadata": {},
   "source": [
    "### Example usage of `UnitSchedule` module (subclass of `Schedule`)"
   ]
  },
  {
   "cell_type": "code",
   "execution_count": 3,
   "metadata": {},
   "outputs": [
    {
     "name": "stdout",
     "output_type": "stream",
     "text": [
      "Schedule begins at  0\n",
      "Schedule resolution is  3600\n"
     ]
    }
   ],
   "source": [
    "from coaffect import Schedule, UnitSchedule\n",
    "\n",
    "schedule = UnitSchedule(DURATION, UNIT)\n",
    "\n",
    "print(\"Schedule begins at \", schedule.get_curr())\n",
    "print(\"Schedule resolution is \", schedule.get_resolution())"
   ]
  },
  {
   "cell_type": "markdown",
   "metadata": {},
   "source": [
    "### Example usage of `Simulation` module (subclass of `Experiment`)"
   ]
  },
  {
   "cell_type": "code",
   "execution_count": 4,
   "metadata": {},
   "outputs": [
    {
     "name": "stdout",
     "output_type": "stream",
     "text": [
      "Simulation ID:  0\n"
     ]
    },
    {
     "data": {
      "text/plain": [
       "25"
      ]
     },
     "execution_count": 4,
     "metadata": {},
     "output_type": "execute_result"
    }
   ],
   "source": [
    "from coaffect import Experiment, Simulation, UnitSchedule\n",
    "\n",
    "schedule = UnitSchedule(DURATION, UNIT)\n",
    "simulation = Simulation(SIMULATION_ID, schedule, SEED)\n",
    "\n",
    "print(\"Simulation ID: \", simulation.get_unique_id())\n",
    "\n",
    "simulation.run()\n",
    "len(simulation.get_history().get_data())"
   ]
  },
  {
   "cell_type": "markdown",
   "metadata": {},
   "source": [
    "### Example usage of `Environment` module"
   ]
  },
  {
   "cell_type": "code",
   "execution_count": 5,
   "metadata": {},
   "outputs": [
    {
     "name": "stdout",
     "output_type": "stream",
     "text": [
      "Environment is named Fun only!\n"
     ]
    }
   ],
   "source": [
    "from coaffect import Environment, Simulation, UnitSchedule\n",
    "\n",
    "schedule = UnitSchedule(DURATION, UNIT)\n",
    "simulation = Simulation(SIMULATION_ID, schedule, SEED)\n",
    "\n",
    "space = {}\n",
    "network = {}\n",
    "environment_name = 'Fun only!'\n",
    "\n",
    "environment = Environment(ENVIRONMENT_ID, simulation, space, network, name=environment_name)\n",
    "print(\"Environment is named\", environment.get_name())"
   ]
  },
  {
   "cell_type": "markdown",
   "metadata": {},
   "source": [
    "### Example usage of `EmotionalAgent` module (subclass of `Agent`)"
   ]
  },
  {
   "cell_type": "code",
   "execution_count": 6,
   "metadata": {},
   "outputs": [
    {
     "data": {
      "text/plain": [
       "{'arousal': 0, 'other': 2, 'something': 1}"
      ]
     },
     "execution_count": 6,
     "metadata": {},
     "output_type": "execute_result"
    }
   ],
   "source": [
    "from coaffect import Agent, EmotionalAgent, Simulation, UnitSchedule\n",
    "\n",
    "schedule = UnitSchedule(DURATION, UNIT)\n",
    "simulation = Simulation(SIMULATION_ID, schedule, SEED)\n",
    "\n",
    "custom_measures = dict(\n",
    "    something=1,\n",
    "    other=2\n",
    ")\n",
    "\n",
    "agent = EmotionalAgent(AGENT_ID, simulation, custom_measures)\n",
    "\n",
    "agent.get_arousal()\n",
    "agent.get_measures()"
   ]
  },
  {
   "cell_type": "markdown",
   "metadata": {},
   "source": [
    "### Example usage of `Group` module"
   ]
  },
  {
   "cell_type": "code",
   "execution_count": 7,
   "metadata": {},
   "outputs": [
    {
     "name": "stdout",
     "output_type": "stream",
     "text": [
      "['a0']\n"
     ]
    }
   ],
   "source": [
    "from coaffect import Group, Simulation, UnitSchedule\n",
    "\n",
    "schedule = UnitSchedule(DURATION, UNIT)\n",
    "simulation = Simulation(SIMULATION_ID, schedule, SEED)\n",
    "\n",
    "group = Group(GROUP_ID, simulation)\n",
    "\n",
    "# add default agent id as member id to group (will print \n",
    "# error if attempted to double add existing member)\n",
    "group.add_member_id(AGENT_ID)\n",
    "\n",
    "print(group.get_member_ids())"
   ]
  },
  {
   "cell_type": "markdown",
   "metadata": {
    "collapsed": true
   },
   "source": [
    "### Example usage of `Network` module"
   ]
  },
  {
   "cell_type": "code",
   "execution_count": 8,
   "metadata": {},
   "outputs": [
    {
     "name": "stdout",
     "output_type": "stream",
     "text": [
      "List of agent nodes: [('a0', {'node_type': 'agent'}), ('a1', {'node_type': 'agent'}), ('a2', {'node_type': 'agent'}), ('a3', {'node_type': 'agent'})]\n",
      "List of group nodes: [('g0', {'node_type': 'group'}), ('g1', {'node_type': 'group'})]\n"
     ]
    }
   ],
   "source": [
    "from coaffect import Network\n",
    "\n",
    "# Create an empty network (directed graph from networkx with a unique_id)\n",
    "example_network_id = 'n0'\n",
    "example_network = Network(example_network_id)\n",
    "\n",
    "# Create a list of agent ids\n",
    "number_of_agents = 4\n",
    "list_of_agent_ids = []\n",
    "for i in range(number_of_agents):\n",
    "    agent_id = 'a' + str(i)\n",
    "    list_of_agent_ids.append(agent_id)\n",
    "\n",
    "# Initialize emotional agents into a list\n",
    "list_of_agents = []\n",
    "for agent_id in list_of_agent_ids:\n",
    "    emotional_agent = EmotionalAgent(agent_id, simulation)\n",
    "    list_of_agents.append(emotional_agent)\n",
    "\n",
    "# Add agents by id as nodes to network\n",
    "example_network.add_agents(list_of_agent_ids)\n",
    "\n",
    "# Create list of group ids\n",
    "number_of_groups = 2\n",
    "list_of_group_ids = []\n",
    "for j in range(number_of_groups):\n",
    "    group_id = 'g' + str(j)\n",
    "    list_of_group_ids.append(group_id)\n",
    "\n",
    "# Initialize groups into a list\n",
    "list_of_groups = []\n",
    "for group_id in list_of_group_ids:\n",
    "    group = Group(group_id, simulation)\n",
    "    list_of_groups.append(group)\n",
    "\n",
    "# Add groups by id as nodes to network\n",
    "example_network.add_groups(list_of_group_ids)\n",
    "\n",
    "# Print list of nodes by type\n",
    "print('List of agent nodes:', example_network.get_nodes('agent'))\n",
    "print('List of group nodes:', example_network.get_nodes('group'))"
   ]
  },
  {
   "cell_type": "markdown",
   "metadata": {},
   "source": [
    "### Example of a merged class `NewAgent` pairing `SpatialAgent` and `EmotionalAgent`"
   ]
  },
  {
   "cell_type": "code",
   "execution_count": 9,
   "metadata": {},
   "outputs": [
    {
     "name": "stdout",
     "output_type": "stream",
     "text": [
      "Combined agent measures: {'position': (), 'arousal': 0}\n"
     ]
    },
    {
     "data": {
      "text/plain": [
       "[{},\n",
       " {},\n",
       " {},\n",
       " {},\n",
       " {},\n",
       " {},\n",
       " {},\n",
       " {},\n",
       " {},\n",
       " {},\n",
       " {},\n",
       " {},\n",
       " {},\n",
       " {},\n",
       " {},\n",
       " {},\n",
       " {},\n",
       " {},\n",
       " {},\n",
       " {},\n",
       " {},\n",
       " {},\n",
       " {},\n",
       " {},\n",
       " {}]"
      ]
     },
     "execution_count": 9,
     "metadata": {},
     "output_type": "execute_result"
    }
   ],
   "source": [
    "from coaffect import SpatialAgent, EmotionalAgent, Simulation, UnitSchedule\n",
    "\n",
    "schedule = UnitSchedule(DURATION, UNIT)\n",
    "simulation = Simulation(SIMULATION_ID, schedule, SEED)\n",
    "\n",
    "class NewAgent(SpatialAgent, EmotionalAgent):\n",
    "    def __init__(self, unique_id, experiment, measures={}):\n",
    "        super().__init__(unique_id, experiment, measures)\n",
    "\n",
    "agent = NewAgent('1', simulation)\n",
    "\n",
    "print('Combined agent measures:', agent.get_measures())\n",
    "simulation.run()\n",
    "\n",
    "simulation.get_history().get_data()"
   ]
  },
  {
   "cell_type": "code",
   "execution_count": 10,
   "metadata": {},
   "outputs": [
    {
     "data": {
      "text/plain": [
       "2"
      ]
     },
     "execution_count": 10,
     "metadata": {},
     "output_type": "execute_result"
    }
   ],
   "source": [
    "len(range(2))"
   ]
  },
  {
   "cell_type": "code",
   "execution_count": null,
   "metadata": {},
   "outputs": [],
   "source": []
  }
 ],
 "metadata": {
  "kernelspec": {
   "display_name": "Python 3",
   "language": "python",
   "name": "python3"
  },
  "language_info": {
   "codemirror_mode": {
    "name": "ipython",
    "version": 3
   },
   "file_extension": ".py",
   "mimetype": "text/x-python",
   "name": "python",
   "nbconvert_exporter": "python",
   "pygments_lexer": "ipython3",
   "version": "3.6.3"
  }
 },
 "nbformat": 4,
 "nbformat_minor": 2
}
