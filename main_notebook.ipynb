{
 "cells": [
  {
   "cell_type": "code",
   "execution_count": 10,
   "metadata": {},
   "outputs": [],
   "source": [
    "import networkx as nx\n",
    "import numpy as np\n",
    "import scipy.stats as sp\n",
    "import random\n",
    "import matplotlib.pyplot as plt\n",
    "import pandas as pd\n",
    "import math\n",
    "\n",
    "from model import Simulate, Group, Agent"
   ]
  },
  {
   "cell_type": "code",
   "execution_count": 19,
   "metadata": {},
   "outputs": [
    {
     "name": "stdout",
     "output_type": "stream",
     "text": [
      "Agent 1 stimulated with strength 0.75\n",
      "Agent 0 stimulated with strength 1.0\n",
      "Agent 1 stimulated with strength 1.0\n",
      "Agent 0 stimulated with strength 1.0\n",
      "Agent 0 stimulated with strength 0.5\n"
     ]
    },
    {
     "data": {
      "text/plain": [
       "<model.simulate.Simulate at 0x1162f4fd0>"
      ]
     },
     "execution_count": 19,
     "metadata": {},
     "output_type": "execute_result"
    }
   ],
   "source": [
    "iterations = 1\n",
    "n_agents = 2\n",
    "T = 50\n",
    "dt = .5 # TODO WORK THIS INTO EVERYTHING\n",
    "timeline = np.arange(0, T + dt, dt)\n",
    "\n",
    "# TEMP\n",
    "# path_length is how far the store owner street spans\n",
    "path_length = 2 * n_agents + 1\n",
    "\n",
    "# positions of agents within first 10 position markers\n",
    "agent_positions = np.random.randint(path_length, size=n_agents)\n",
    "\n",
    "ties = [] #placeholder\n",
    "\n",
    "simulation = Simulate(T, dt)\n",
    "simulation.run(Group, Agent, n_agents, path_length, agent_positions, ties, iterations)\n",
    "        \n",
    "simulation"
   ]
  },
  {
   "cell_type": "code",
   "execution_count": 20,
   "metadata": {
    "scrolled": true
   },
   "outputs": [
    {
     "data": {
      "text/plain": [
       "[<matplotlib.lines.Line2D at 0x1163e5be0>,\n",
       " <matplotlib.lines.Line2D at 0x1163e5da0>]"
      ]
     },
     "execution_count": 20,
     "metadata": {},
     "output_type": "execute_result"
    },
    {
     "data": {
      "image/png": "[encoded data removed]",
      "text/plain": [
       "<matplotlib.figure.Figure at 0x116306cf8>"
      ]
     },
     "metadata": {},
     "output_type": "display_data"
    }
   ],
   "source": [
    "plt.plot(timeline, \n",
    "         simulation.output()[0]['agents'][0].data['arousal'], \n",
    "         timeline, \n",
    "         simulation.output()[0]['agents'][1].data['arousal'])"
   ]
  },
  {
   "cell_type": "code",
   "execution_count": 4,
   "metadata": {},
   "outputs": [
    {
     "data": {
      "text/plain": [
       "array([5, 2])"
      ]
     },
     "execution_count": 4,
     "metadata": {},
     "output_type": "execute_result"
    }
   ],
   "source": [
    "agent_positions"
   ]
  },
  {
   "cell_type": "code",
   "execution_count": 5,
   "metadata": {},
   "outputs": [
    {
     "data": {
      "text/plain": [
       "array([6])"
      ]
     },
     "execution_count": 5,
     "metadata": {},
     "output_type": "execute_result"
    }
   ],
   "source": [
    "np.random.choice([0,3,6],1)"
   ]
  },
  {
   "cell_type": "code",
   "execution_count": null,
   "metadata": {},
   "outputs": [],
   "source": []
  }
 ],
 "metadata": {
  "kernelspec": {
   "display_name": "Python 3",
   "language": "python",
   "name": "python3"
  },
  "language_info": {
   "codemirror_mode": {
    "name": "ipython",
    "version": 3
   },
   "file_extension": ".py",
   "mimetype": "text/x-python",
   "name": "python",
   "nbconvert_exporter": "python",
   "pygments_lexer": "ipython3",
   "version": "3.6.3"
  }
 },
 "nbformat": 4,
 "nbformat_minor": 2
}
